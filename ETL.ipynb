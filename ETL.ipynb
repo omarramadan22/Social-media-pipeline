{
 "cells": [
  {
   "cell_type": "code",
   "execution_count": 1,
   "id": "020a6b7c-8821-47af-ac06-81a781fc0371",
   "metadata": {},
   "outputs": [],
   "source": [
    "from pyspark.sql import SparkSession\n",
    "\n",
    "spark = SparkSession.builder \\\n",
    "    .appName(\"ETL\") \\\n",
    "    .config(\"spark.jars\", \"/home/jovyan/drivers/postgresql-42.7.3.jar\") \\\n",
    "    .getOrCreate()"
   ]
  },
  {
   "cell_type": "code",
   "execution_count": 2,
   "id": "07b701d8-b5af-40fb-a6b2-a2d6af7b48c8",
   "metadata": {},
   "outputs": [],
   "source": [
    "from pyspark.sql.functions import to_date, col , when , explode , coalesce , lit"
   ]
  },
  {
   "cell_type": "code",
   "execution_count": 3,
   "id": "7ffbe596-0913-4379-b7c8-51693232a11d",
   "metadata": {},
   "outputs": [
    {
     "name": "stdout",
     "output_type": "stream",
     "text": [
      "root\n",
      " |-- age: long (nullable = true)\n",
      " |-- date_created: string (nullable = true)\n",
      " |-- email: string (nullable = true)\n",
      " |-- gender: string (nullable = true)\n",
      " |-- name: string (nullable = true)\n",
      " |-- posts: array (nullable = true)\n",
      " |    |-- element: struct (containsNull = true)\n",
      " |    |    |-- comments: array (nullable = true)\n",
      " |    |    |    |-- element: struct (containsNull = true)\n",
      " |    |    |    |    |-- comment: string (nullable = true)\n",
      " |    |    |    |    |-- timestamp: string (nullable = true)\n",
      " |    |    |    |    |-- user_id: string (nullable = true)\n",
      " |    |    |-- location: string (nullable = true)\n",
      " |    |    |-- post_id: string (nullable = true)\n",
      " |    |    |-- post_text: string (nullable = true)\n",
      " |    |    |-- reactions: struct (nullable = true)\n",
      " |    |    |    |-- angry: long (nullable = true)\n",
      " |    |    |    |-- haha: long (nullable = true)\n",
      " |    |    |    |-- like: long (nullable = true)\n",
      " |    |    |    |-- love: long (nullable = true)\n",
      " |    |    |    |-- sad: long (nullable = true)\n",
      " |    |    |    |-- wow: long (nullable = true)\n",
      " |    |    |-- shares: long (nullable = true)\n",
      " |    |    |-- tags: array (nullable = true)\n",
      " |    |    |    |-- element: string (containsNull = true)\n",
      " |    |    |-- timestamp: string (nullable = true)\n",
      " |-- user_id: string (nullable = true)\n",
      " |-- username: string (nullable = true)\n",
      "\n"
     ]
    }
   ],
   "source": [
    "social_df = spark.read.option(\"multiline\", \"true\").json(\"social_media_info.json\") \n",
    "social_df.printSchema()"
   ]
  },
  {
   "cell_type": "code",
   "execution_count": 4,
   "id": "adf06d8b-119d-4c2c-85f4-f8164ec8bd1b",
   "metadata": {},
   "outputs": [
    {
     "name": "stdout",
     "output_type": "stream",
     "text": [
      "+---+-------------------+--------------------+------+-----------------+--------------------+--------------------+-------------------+\n",
      "|age|       date_created|               email|gender|             name|               posts|             user_id|           username|\n",
      "+---+-------------------+--------------------+------+-----------------+--------------------+--------------------+-------------------+\n",
      "| 57|2010-03-22 13:20:34|stephenstimothy@e...|female|Austin Chavez Jr.|                  []|b2ddab24-f19c-458...|           edward74|\n",
      "| 66|2018-03-28 04:18:48| rmeyers@example.org|female| Donald Mcfarland|                  []|33d9493d-7073-494...|      aprilthompson|\n",
      "| 57|2018-11-13 04:34:21|jefferybeard@exam...|  male|      Joshua Hull|                  []|abd87864-b134-42a...|            kduncan|\n",
      "| 32|2015-07-16 14:57:48|daviskrista@examp...|  male|    Joseph Santos|[{[{Citizen produ...|4b30cfe3-d4af-4fc...|         courtney76|\n",
      "| 36|2023-03-25 19:40:01|ruthgonzalez@exam...|female|    Brandy Phelps|[{[{Less support ...|e5577616-a1ea-45e...|     richardgoodwin|\n",
      "| 49|2017-10-14 13:44:35|rhodeschristopher...|female|   Timothy Harris|[{[{American stoc...|fce1b46d-224e-413...|        murphydavid|\n",
      "| 36|2014-05-02 21:20:49|sandra71@example.com|  male|     Aaron Martin|[{[{Fine option h...|3979d7c8-4214-466...|      careymichelle|\n",
      "| 40|2021-10-22 19:58:09|palmercatherine@e...|  male|   Courtney Brown|[{[{Throw ground ...|07b0f9d1-936f-421...|        jasminerich|\n",
      "| 54|2013-03-16 18:57:15|johnsonaaron@exam...|  male|     Andrea Sharp|[{[{Respond task ...|3b089e90-b045-4b0...|             wsmith|\n",
      "| 45|2010-09-12 16:56:36|  rosele@example.org|  male|    George Booker|[{[{Modern increa...|20d73ee7-3b9d-4f0...|    crawfordpatrick|\n",
      "| 57|2022-07-31 09:50:25|landrybrian@examp...|female|    Michael Smith|[{[{Growth situat...|24791b8f-4f83-400...|campbellchristopher|\n",
      "| 52|2020-11-30 09:19:57|   zking@example.org|  male|   Elizabeth Bird|                  []|9f252abf-41e2-47c...|     wheelertimothy|\n",
      "| 23|2010-04-15 18:16:08| mmiller@example.com|  male|     Joseph Vance|[{[{Not managemen...|e6f471fa-95ad-461...|        piercecasey|\n",
      "| 62|2013-11-09 04:04:44|atkinsbrian@examp...|  male|Timothy Frederick|[{[{Issue picture...|3de00ba0-6020-45c...|        wilsontraci|\n",
      "| 24|2023-03-18 03:02:53|tiffanymckinney@e...|female|    Zachary Jones|[{[{Those keep kn...|f082ba14-2a52-4cf...|      garciadeborah|\n",
      "| 47|2023-07-21 15:34:36|jhouston@example.com|female|  Kimberly Mendez|[{[], London, 6a6...|0c92ca17-abeb-4b2...|         rosebryant|\n",
      "| 21|2021-11-05 20:47:42|masonjennifer@exa...|female|     Emily Wilson|[{[{Resource them...|01417425-3a39-448...|      brandtcarolyn|\n",
      "| 35|2015-05-28 20:25:53|william47@example...|  male|  Michele Schmitt|                  []|090644b6-5529-462...|          ihamilton|\n",
      "| 48|2013-04-14 00:34:37|  fsingh@example.org|female|  Catherine Horne|[{[], NULL, 700d8...|bb7a3482-7286-429...|           ymanning|\n",
      "| 37|2017-11-10 10:28:55|mitchellalexandra...|female|     Keith Cortez|                  []|d4bcfef7-5179-4a0...|        darryllewis|\n",
      "+---+-------------------+--------------------+------+-----------------+--------------------+--------------------+-------------------+\n",
      "only showing top 20 rows\n",
      "\n"
     ]
    }
   ],
   "source": [
    "social_df.show()"
   ]
  },
  {
   "cell_type": "code",
   "execution_count": 5,
   "id": "244b605f-9c3d-4d9e-87f2-d06273fb19df",
   "metadata": {},
   "outputs": [],
   "source": [
    "users_dimension = social_df[\"user_id\" , \"username\" , \"age\" , \"date_created\" ,\"email\" , \"gender\" ,  \"name\"  ]"
   ]
  },
  {
   "cell_type": "code",
   "execution_count": 7,
   "id": "dcced3b4-8cef-49a1-8311-a0a3be9b49a4",
   "metadata": {},
   "outputs": [
    {
     "name": "stdout",
     "output_type": "stream",
     "text": [
      "+--------------------+-------------------+---+-------------------+--------------------+------+-----------------+\n",
      "|             user_id|           username|age|       date_created|               email|gender|             name|\n",
      "+--------------------+-------------------+---+-------------------+--------------------+------+-----------------+\n",
      "|b2ddab24-f19c-458...|           edward74| 57|2010-03-22 13:20:34|stephenstimothy@e...|female|Austin Chavez Jr.|\n",
      "|33d9493d-7073-494...|      aprilthompson| 66|2018-03-28 04:18:48| rmeyers@example.org|female| Donald Mcfarland|\n",
      "|abd87864-b134-42a...|            kduncan| 57|2018-11-13 04:34:21|jefferybeard@exam...|  male|      Joshua Hull|\n",
      "|4b30cfe3-d4af-4fc...|         courtney76| 32|2015-07-16 14:57:48|daviskrista@examp...|  male|    Joseph Santos|\n",
      "|e5577616-a1ea-45e...|     richardgoodwin| 36|2023-03-25 19:40:01|ruthgonzalez@exam...|female|    Brandy Phelps|\n",
      "|fce1b46d-224e-413...|        murphydavid| 49|2017-10-14 13:44:35|rhodeschristopher...|female|   Timothy Harris|\n",
      "|3979d7c8-4214-466...|      careymichelle| 36|2014-05-02 21:20:49|sandra71@example.com|  male|     Aaron Martin|\n",
      "|07b0f9d1-936f-421...|        jasminerich| 40|2021-10-22 19:58:09|palmercatherine@e...|  male|   Courtney Brown|\n",
      "|3b089e90-b045-4b0...|             wsmith| 54|2013-03-16 18:57:15|johnsonaaron@exam...|  male|     Andrea Sharp|\n",
      "|20d73ee7-3b9d-4f0...|    crawfordpatrick| 45|2010-09-12 16:56:36|  rosele@example.org|  male|    George Booker|\n",
      "|24791b8f-4f83-400...|campbellchristopher| 57|2022-07-31 09:50:25|landrybrian@examp...|female|    Michael Smith|\n",
      "|9f252abf-41e2-47c...|     wheelertimothy| 52|2020-11-30 09:19:57|   zking@example.org|  male|   Elizabeth Bird|\n",
      "|e6f471fa-95ad-461...|        piercecasey| 23|2010-04-15 18:16:08| mmiller@example.com|  male|     Joseph Vance|\n",
      "|3de00ba0-6020-45c...|        wilsontraci| 62|2013-11-09 04:04:44|atkinsbrian@examp...|  male|Timothy Frederick|\n",
      "|f082ba14-2a52-4cf...|      garciadeborah| 24|2023-03-18 03:02:53|tiffanymckinney@e...|female|    Zachary Jones|\n",
      "|0c92ca17-abeb-4b2...|         rosebryant| 47|2023-07-21 15:34:36|jhouston@example.com|female|  Kimberly Mendez|\n",
      "|01417425-3a39-448...|      brandtcarolyn| 21|2021-11-05 20:47:42|masonjennifer@exa...|female|     Emily Wilson|\n",
      "|090644b6-5529-462...|          ihamilton| 35|2015-05-28 20:25:53|william47@example...|  male|  Michele Schmitt|\n",
      "|bb7a3482-7286-429...|           ymanning| 48|2013-04-14 00:34:37|  fsingh@example.org|female|  Catherine Horne|\n",
      "|d4bcfef7-5179-4a0...|        darryllewis| 37|2017-11-10 10:28:55|mitchellalexandra...|female|     Keith Cortez|\n",
      "+--------------------+-------------------+---+-------------------+--------------------+------+-----------------+\n",
      "only showing top 20 rows\n",
      "\n"
     ]
    }
   ],
   "source": [
    "users_dimension.show()"
   ]
  },
  {
   "cell_type": "code",
   "execution_count": 8,
   "id": "623d220b-5c1e-4cd3-aea9-ec5405ca4534",
   "metadata": {},
   "outputs": [],
   "source": [
    "posts_df = social_df.select(\"user_id\", \"username\", explode(\"posts\").alias(\"post\"))"
   ]
  },
  {
   "cell_type": "code",
   "execution_count": 9,
   "id": "4000fe6b-92e0-4398-9e1f-c9125b2dd288",
   "metadata": {},
   "outputs": [],
   "source": [
    "posts_dimension = posts_df.select(\n",
    "    \"user_id\",\n",
    "    \"post.post_id\",\n",
    "    \"post.post_text\",\n",
    "    \"post.location\",\n",
    "    \"post.timestamp\",\n",
    "    \"post.shares\",\n",
    "    \"post.tags\",\n",
    "    \"post.comments\" ,\n",
    "   col(\"post.reactions.angry\").alias(\"reaction_angry\"),\n",
    "    col(\"post.reactions.haha\").alias(\"reaction_haha\"),\n",
    "    col(\"post.reactions.like\").alias(\"reaction_like\"),\n",
    "    col(\"post.reactions.love\").alias(\"reaction_love\"),\n",
    "    col(\"post.reactions.sad\").alias(\"reaction_sad\"),\n",
    "    col(\"post.reactions.wow\").alias(\"reaction_wow\")\n",
    "\n",
    ").withColumn(\n",
    "    \"total_reactions\",\n",
    "      coalesce(col(\"reaction_angry\"), lit(0)) +\n",
    "    coalesce(col(\"reaction_haha\"), lit(0)) +\n",
    "    coalesce(col(\"reaction_like\"), lit(0)) +\n",
    "    coalesce(col(\"reaction_love\"), lit(0)) +\n",
    "    coalesce(col(\"reaction_sad\"), lit(0)) +\n",
    "    coalesce(col(\"reaction_wow\"), lit(0))\n",
    ")"
   ]
  },
  {
   "cell_type": "code",
   "execution_count": 10,
   "id": "9ffc1853-92f4-4bc5-8503-4763d05b2843",
   "metadata": {},
   "outputs": [
    {
     "name": "stdout",
     "output_type": "stream",
     "text": [
      "+--------------------+--------------------+--------------------+--------+-------------------+------+--------------------+--------------------+--------------+-------------+-------------+-------------+------------+------------+---------------+\n",
      "|             user_id|             post_id|           post_text|location|          timestamp|shares|                tags|            comments|reaction_angry|reaction_haha|reaction_like|reaction_love|reaction_sad|reaction_wow|total_reactions|\n",
      "+--------------------+--------------------+--------------------+--------+-------------------+------+--------------------+--------------------+--------------+-------------+-------------+-------------+------------+------------+---------------+\n",
      "|4b30cfe3-d4af-4fc...|e47dcbb7-ddf9-48c...|Church claim bloo...|    NULL|2022-10-08 01:41:04|     2|               [art]|[{Citizen product...|          NULL|         NULL|         NULL|         NULL|        NULL|        NULL|              0|\n",
      "|4b30cfe3-d4af-4fc...|6cb5bc0e-7548-44e...|Behind practice l...|  Sydney|2020-05-04 18:50:50|    94|[tech, fashion, s...|[{Join respond wi...|          NULL|         NULL|         NULL|          270|        NULL|         100|            370|\n",
      "|4b30cfe3-d4af-4fc...|4362b53c-03a6-496...|Watch hospital mi...|   Tokyo|2018-01-17 04:24:21|    47|                  []|[{At speak close ...|          NULL|         NULL|         NULL|         NULL|        NULL|        NULL|              0|\n",
      "|4b30cfe3-d4af-4fc...|6ad79fe5-b4ad-4cf...|Daughter bring st...|   Tokyo|2023-02-08 22:33:06|    20| [art, tech, sports]|[{Town cup take a...|          NULL|         NULL|         NULL|         NULL|        NULL|        NULL|              0|\n",
      "|4b30cfe3-d4af-4fc...|62507fb3-17bc-480...|Woman get informa...|    NULL|2021-03-16 10:25:33|  NULL|              [food]|[{Camera let take...|          NULL|         NULL|         NULL|          283|          80|        NULL|            363|\n",
      "|4b30cfe3-d4af-4fc...|c07b8d05-6042-43e...|Question seat onl...|    NULL|2015-01-29 02:08:09|  NULL|[music, fashion, ...|                  []|          NULL|         NULL|           14|         NULL|        NULL|        NULL|             14|\n",
      "|4b30cfe3-d4af-4fc...|f6ee982f-b47d-4f1...|You audience type...|New York|2011-01-05 20:09:42|  NULL|                  []|[{Today watch sti...|          NULL|         NULL|         NULL|         NULL|        NULL|        NULL|              0|\n",
      "|4b30cfe3-d4af-4fc...|20aca0dd-16d1-4e1...|Shoulder although...|    NULL|2020-01-14 09:54:59|  NULL|           [science]|                  []|          NULL|         NULL|         NULL|         NULL|        NULL|        NULL|              0|\n",
      "|e5577616-a1ea-45e...|1c38817f-7493-420...|Drop treat provid...|   Paris|2023-02-18 17:45:34|    35|[food, sports, mu...|[{Less support be...|           497|          439|           74|          315|         274|         265|           1864|\n",
      "|fce1b46d-224e-413...|5346bb1b-4604-4ba...|Information popul...|  Sydney|2011-12-10 23:30:42|    82|                  []|[{American stock ...|          NULL|           36|         NULL|           75|        NULL|         306|            417|\n",
      "|fce1b46d-224e-413...|b4423da1-166c-47d...|That sit together...|    NULL|2013-01-06 10:32:33|  NULL|[travel, music, s...|                  []|           107|         NULL|          467|         NULL|        NULL|        NULL|            574|\n",
      "|fce1b46d-224e-413...|fdde16c0-37ba-425...|Red family fine s...|    NULL|2014-06-24 10:43:33|  NULL|    [science, music]|                  []|           464|         NULL|         NULL|         NULL|          47|        NULL|            511|\n",
      "|fce1b46d-224e-413...|e68106e5-ef69-4ad...|Know indeed anoth...|   Paris|2020-06-05 18:21:06|  NULL|              [tech]|                  []|          NULL|         NULL|         NULL|          201|        NULL|        NULL|            201|\n",
      "|fce1b46d-224e-413...|98c855ae-e324-4ed...|Church five quite...|  Sydney|2022-11-11 18:34:11|  NULL|     [food, science]|[{Way citizen hus...|           217|            6|         NULL|         NULL|          12|         253|            488|\n",
      "|fce1b46d-224e-413...|060e7641-469a-447...|Compare represent...|New York|2024-03-10 00:22:26|  NULL|     [tech, fashion]|[{Smile head offe...|           495|         NULL|         NULL|         NULL|        NULL|         260|            755|\n",
      "|fce1b46d-224e-413...|9468ad34-4857-4c8...|Town loss true pr...|    NULL|2014-12-27 06:30:54|    18|                  []|[{Back responsibi...|           360|          312|            4|          224|        NULL|        NULL|            900|\n",
      "|fce1b46d-224e-413...|fe4f59b9-f937-432...|Party trip be bor...|    NULL|2012-01-23 06:47:02|  NULL|                  []|[{Military thing ...|          NULL|         NULL|         NULL|         NULL|        NULL|        NULL|              0|\n",
      "|3979d7c8-4214-466...|c868f896-3685-46f...|Economy fast resu...|    NULL|2010-06-25 04:33:36|    92|                  []|[{Fine option hea...|          NULL|         NULL|         NULL|         NULL|        NULL|        NULL|              0|\n",
      "|3979d7c8-4214-466...|7f93bbe6-9c03-421...|Pressure sea cell...|New York|2017-07-14 05:00:01|  NULL|               [art]|[{Professional ma...|          NULL|         NULL|          275|         NULL|        NULL|        NULL|            275|\n",
      "|3979d7c8-4214-466...|0931632b-b93f-428...|   Tv guess student.|  Berlin|2018-02-15 19:29:01|  NULL|             [music]|[{Certain value p...|           476|          478|         NULL|         NULL|          90|        NULL|           1044|\n",
      "+--------------------+--------------------+--------------------+--------+-------------------+------+--------------------+--------------------+--------------+-------------+-------------+-------------+------------+------------+---------------+\n",
      "only showing top 20 rows\n",
      "\n"
     ]
    }
   ],
   "source": [
    "posts_dimension.show()"
   ]
  },
  {
   "cell_type": "code",
   "execution_count": 11,
   "id": "604ccda5-ef58-45d3-a72c-53eb491f43d8",
   "metadata": {},
   "outputs": [],
   "source": [
    "comments_df = posts_dimension.select(\"post_id\", explode(\"comments\").alias(\"comment\"))"
   ]
  },
  {
   "cell_type": "code",
   "execution_count": 12,
   "id": "ff8162ae-9781-492d-a580-80fa3cb994ff",
   "metadata": {},
   "outputs": [],
   "source": [
    "comments_dimension = comments_df.select(\n",
    "    \"post_id\",\n",
    "    \"comment.comment\",\n",
    "    \"comment.timestamp\",\n",
    "    \"comment.user_id\",\n",
    ")"
   ]
  },
  {
   "cell_type": "code",
   "execution_count": 13,
   "id": "5444af69-6c92-4c38-b6cf-10f74a96e469",
   "metadata": {},
   "outputs": [
    {
     "name": "stdout",
     "output_type": "stream",
     "text": [
      "+--------------------+--------------------+-------------------+--------------------+\n",
      "|             post_id|             comment|          timestamp|             user_id|\n",
      "+--------------------+--------------------+-------------------+--------------------+\n",
      "|e47dcbb7-ddf9-48c...|Citizen productio...|2014-02-10 03:52:11|d36126d3-cdaa-41a...|\n",
      "|e47dcbb7-ddf9-48c...|Field piece garde...|2019-11-17 12:23:03|34b6b3f1-02d6-417...|\n",
      "|e47dcbb7-ddf9-48c...|With decision law...|2021-01-12 08:46:48|2cee5448-9069-49f...|\n",
      "|e47dcbb7-ddf9-48c...|Along agreement a...|2022-12-05 07:35:54|8a222916-ddb3-4c1...|\n",
      "|6cb5bc0e-7548-44e...|Join respond win ...|2014-04-01 06:50:05|83f1199f-bd9f-4a6...|\n",
      "|6cb5bc0e-7548-44e...|Early performance...|2013-03-27 01:58:55|20d4d6cd-baba-417...|\n",
      "|6cb5bc0e-7548-44e...|Organization anot...|2023-06-10 16:09:37|7d5adfb0-f724-476...|\n",
      "|6cb5bc0e-7548-44e...|Add account succe...|2023-06-25 17:23:10|4fe13c30-1b2c-4e2...|\n",
      "|4362b53c-03a6-496...|At speak close ag...|2012-01-20 12:19:41|5d1ec4c5-9ae3-468...|\n",
      "|6ad79fe5-b4ad-4cf...|Town cup take alm...|2016-02-05 03:08:10|7658e6ab-45df-496...|\n",
      "|6ad79fe5-b4ad-4cf...|Half responsibili...|2019-02-03 13:42:08|3a1c7930-d553-4f6...|\n",
      "|62507fb3-17bc-480...|Camera let take e...|2016-07-24 15:20:03|dad999e5-31cf-4ae...|\n",
      "|62507fb3-17bc-480...|Social factor sim...|2011-05-11 09:07:46|3fef7983-f69d-4fe...|\n",
      "|62507fb3-17bc-480...|To picture staff ...|2024-04-02 04:17:51|8e200bbb-d1f9-4e6...|\n",
      "|f6ee982f-b47d-4f1...|Today watch still...|2013-12-14 02:34:15|97a387a1-7b43-4d0...|\n",
      "|f6ee982f-b47d-4f1...|Individual messag...|2018-02-28 15:54:54|adcbd5f4-8eb3-413...|\n",
      "|f6ee982f-b47d-4f1...|Difference especi...|2016-04-10 20:35:30|0cb37416-ad18-4a2...|\n",
      "|1c38817f-7493-420...|Less support beat...|2012-11-28 23:04:27|a1d1f4cf-c328-432...|\n",
      "|1c38817f-7493-420...|Course least thin...|2013-11-06 00:25:57|f32b9f46-8512-4d3...|\n",
      "|1c38817f-7493-420...|Theory response h...|2018-12-22 08:45:59|e7470247-4ec5-457...|\n",
      "+--------------------+--------------------+-------------------+--------------------+\n",
      "only showing top 20 rows\n",
      "\n"
     ]
    }
   ],
   "source": [
    "comments_dimension.show()"
   ]
  },
  {
   "cell_type": "code",
   "execution_count": 14,
   "id": "9cb77ee8-bd4a-442f-8b6b-afef5a56e7d5",
   "metadata": {},
   "outputs": [],
   "source": [
    "initial_interaction_df =  social_df.select(  \"user_id\" , explode(\"posts\").alias(\"post\"))"
   ]
  },
  {
   "cell_type": "code",
   "execution_count": 15,
   "id": "6a14f171-fea9-4a3b-9842-4da21f25c946",
   "metadata": {},
   "outputs": [],
   "source": [
    "\n",
    "flattened_initial_interaction_df =initial_interaction_df.select(\n",
    "    \"user_id\",\n",
    "    \"post.post_id\",\n",
    "    \"post.timestamp\",\n",
    "    \"post.shares\",\n",
    "    \"post.tags\",\n",
    "    \"post.comments\",\n",
    "  col(\"post.reactions.angry\").alias(\"reaction_angry\"),\n",
    "    col(\"post.reactions.haha\").alias(\"reaction_haha\"),\n",
    "    col(\"post.reactions.like\").alias(\"reaction_like\"),\n",
    "    col(\"post.reactions.love\").alias(\"reaction_love\"),\n",
    "    col(\"post.reactions.sad\").alias(\"reaction_sad\"),\n",
    "    col(\"post.reactions.wow\").alias(\"reaction_wow\")\n",
    "    \n",
    ").withColumn(\n",
    "    \"total_reactions\",\n",
    "      coalesce(col(\"reaction_angry\"), lit(0)) +\n",
    "    coalesce(col(\"reaction_haha\"), lit(0)) +\n",
    "    coalesce(col(\"reaction_like\"), lit(0)) +\n",
    "    coalesce(col(\"reaction_love\"), lit(0)) +\n",
    "    coalesce(col(\"reaction_sad\"), lit(0)) +\n",
    "    coalesce(col(\"reaction_wow\"), lit(0))\n",
    ")\n"
   ]
  },
  {
   "cell_type": "code",
   "execution_count": 16,
   "id": "77f44730-5bb2-4e4b-a4be-0f4e2ee239d8",
   "metadata": {},
   "outputs": [],
   "source": [
    "second_interaction_df = flattened_initial_interaction_df.select(\"user_id\" , \"post_id\"  , \"timestamp\" , \"shares\" , \"tags\" ,  \"reaction_angry\" , \"reaction_haha\" ,  \"reaction_like\" , \"reaction_love\" ,  \"reaction_sad\" ,  \"reaction_wow\" , \"total_reactions\" , explode(\"comments\").alias(\"comment\"))"
   ]
  },
  {
   "cell_type": "code",
   "execution_count": 17,
   "id": "b917e488-390f-408c-be11-ca66a77f246f",
   "metadata": {},
   "outputs": [],
   "source": [
    "interaction_fact = second_interaction_df.select(\n",
    "  \"user_id\" , \n",
    "    \"post_id\"  , \n",
    "     col(\"timestamp\").alias(\"post_timestamp\") ,\n",
    "    \"shares\" , \n",
    "    \"tags\" ,  \n",
    "    \"reaction_angry\" ,\n",
    "    \"reaction_haha\" ,  \n",
    "    \"reaction_like\" , \n",
    "    \"reaction_love\" ,\n",
    "    \"reaction_sad\" , \n",
    "    \"reaction_wow\" ,\n",
    "    \"total_reactions\" ,\n",
    "    col(\"comment.timestamp\").alias(\"comment_timestamp\"),\n",
    "    col(\"comment.user_id\").alias(\"comment_user_id\")\n",
    "    \n",
    ")"
   ]
  },
  {
   "cell_type": "code",
   "execution_count": 18,
   "id": "3b670380-a2e5-4845-9e11-afc73ed14171",
   "metadata": {},
   "outputs": [
    {
     "name": "stdout",
     "output_type": "stream",
     "text": [
      "root\n",
      " |-- user_id: string (nullable = true)\n",
      " |-- post_id: string (nullable = true)\n",
      " |-- post_timestamp: string (nullable = true)\n",
      " |-- shares: long (nullable = true)\n",
      " |-- tags: array (nullable = true)\n",
      " |    |-- element: string (containsNull = true)\n",
      " |-- reaction_angry: long (nullable = true)\n",
      " |-- reaction_haha: long (nullable = true)\n",
      " |-- reaction_like: long (nullable = true)\n",
      " |-- reaction_love: long (nullable = true)\n",
      " |-- reaction_sad: long (nullable = true)\n",
      " |-- reaction_wow: long (nullable = true)\n",
      " |-- total_reactions: long (nullable = false)\n",
      " |-- comment_timestamp: string (nullable = true)\n",
      " |-- comment_user_id: string (nullable = true)\n",
      "\n"
     ]
    }
   ],
   "source": [
    "interaction_fact.printSchema()"
   ]
  },
  {
   "cell_type": "code",
   "execution_count": 19,
   "id": "6accb779-ab6c-4247-b1e4-8dbcc1f692e1",
   "metadata": {},
   "outputs": [
    {
     "name": "stdout",
     "output_type": "stream",
     "text": [
      "+--------------------+--------------------+-------------------+------+--------------------+--------------+-------------+-------------+-------------+------------+------------+---------------+-------------------+--------------------+\n",
      "|             user_id|             post_id|     post_timestamp|shares|                tags|reaction_angry|reaction_haha|reaction_like|reaction_love|reaction_sad|reaction_wow|total_reactions|  comment_timestamp|     comment_user_id|\n",
      "+--------------------+--------------------+-------------------+------+--------------------+--------------+-------------+-------------+-------------+------------+------------+---------------+-------------------+--------------------+\n",
      "|4b30cfe3-d4af-4fc...|e47dcbb7-ddf9-48c...|2022-10-08 01:41:04|     2|               [art]|          NULL|         NULL|         NULL|         NULL|        NULL|        NULL|              0|2014-02-10 03:52:11|d36126d3-cdaa-41a...|\n",
      "|4b30cfe3-d4af-4fc...|e47dcbb7-ddf9-48c...|2022-10-08 01:41:04|     2|               [art]|          NULL|         NULL|         NULL|         NULL|        NULL|        NULL|              0|2019-11-17 12:23:03|34b6b3f1-02d6-417...|\n",
      "|4b30cfe3-d4af-4fc...|e47dcbb7-ddf9-48c...|2022-10-08 01:41:04|     2|               [art]|          NULL|         NULL|         NULL|         NULL|        NULL|        NULL|              0|2021-01-12 08:46:48|2cee5448-9069-49f...|\n",
      "|4b30cfe3-d4af-4fc...|e47dcbb7-ddf9-48c...|2022-10-08 01:41:04|     2|               [art]|          NULL|         NULL|         NULL|         NULL|        NULL|        NULL|              0|2022-12-05 07:35:54|8a222916-ddb3-4c1...|\n",
      "|4b30cfe3-d4af-4fc...|6cb5bc0e-7548-44e...|2020-05-04 18:50:50|    94|[tech, fashion, s...|          NULL|         NULL|         NULL|          270|        NULL|         100|            370|2014-04-01 06:50:05|83f1199f-bd9f-4a6...|\n",
      "|4b30cfe3-d4af-4fc...|6cb5bc0e-7548-44e...|2020-05-04 18:50:50|    94|[tech, fashion, s...|          NULL|         NULL|         NULL|          270|        NULL|         100|            370|2013-03-27 01:58:55|20d4d6cd-baba-417...|\n",
      "|4b30cfe3-d4af-4fc...|6cb5bc0e-7548-44e...|2020-05-04 18:50:50|    94|[tech, fashion, s...|          NULL|         NULL|         NULL|          270|        NULL|         100|            370|2023-06-10 16:09:37|7d5adfb0-f724-476...|\n",
      "|4b30cfe3-d4af-4fc...|6cb5bc0e-7548-44e...|2020-05-04 18:50:50|    94|[tech, fashion, s...|          NULL|         NULL|         NULL|          270|        NULL|         100|            370|2023-06-25 17:23:10|4fe13c30-1b2c-4e2...|\n",
      "|4b30cfe3-d4af-4fc...|4362b53c-03a6-496...|2018-01-17 04:24:21|    47|                  []|          NULL|         NULL|         NULL|         NULL|        NULL|        NULL|              0|2012-01-20 12:19:41|5d1ec4c5-9ae3-468...|\n",
      "|4b30cfe3-d4af-4fc...|6ad79fe5-b4ad-4cf...|2023-02-08 22:33:06|    20| [art, tech, sports]|          NULL|         NULL|         NULL|         NULL|        NULL|        NULL|              0|2016-02-05 03:08:10|7658e6ab-45df-496...|\n",
      "|4b30cfe3-d4af-4fc...|6ad79fe5-b4ad-4cf...|2023-02-08 22:33:06|    20| [art, tech, sports]|          NULL|         NULL|         NULL|         NULL|        NULL|        NULL|              0|2019-02-03 13:42:08|3a1c7930-d553-4f6...|\n",
      "|4b30cfe3-d4af-4fc...|62507fb3-17bc-480...|2021-03-16 10:25:33|  NULL|              [food]|          NULL|         NULL|         NULL|          283|          80|        NULL|            363|2016-07-24 15:20:03|dad999e5-31cf-4ae...|\n",
      "|4b30cfe3-d4af-4fc...|62507fb3-17bc-480...|2021-03-16 10:25:33|  NULL|              [food]|          NULL|         NULL|         NULL|          283|          80|        NULL|            363|2011-05-11 09:07:46|3fef7983-f69d-4fe...|\n",
      "|4b30cfe3-d4af-4fc...|62507fb3-17bc-480...|2021-03-16 10:25:33|  NULL|              [food]|          NULL|         NULL|         NULL|          283|          80|        NULL|            363|2024-04-02 04:17:51|8e200bbb-d1f9-4e6...|\n",
      "|4b30cfe3-d4af-4fc...|f6ee982f-b47d-4f1...|2011-01-05 20:09:42|  NULL|                  []|          NULL|         NULL|         NULL|         NULL|        NULL|        NULL|              0|2013-12-14 02:34:15|97a387a1-7b43-4d0...|\n",
      "|4b30cfe3-d4af-4fc...|f6ee982f-b47d-4f1...|2011-01-05 20:09:42|  NULL|                  []|          NULL|         NULL|         NULL|         NULL|        NULL|        NULL|              0|2018-02-28 15:54:54|adcbd5f4-8eb3-413...|\n",
      "|4b30cfe3-d4af-4fc...|f6ee982f-b47d-4f1...|2011-01-05 20:09:42|  NULL|                  []|          NULL|         NULL|         NULL|         NULL|        NULL|        NULL|              0|2016-04-10 20:35:30|0cb37416-ad18-4a2...|\n",
      "|e5577616-a1ea-45e...|1c38817f-7493-420...|2023-02-18 17:45:34|    35|[food, sports, mu...|           497|          439|           74|          315|         274|         265|           1864|2012-11-28 23:04:27|a1d1f4cf-c328-432...|\n",
      "|e5577616-a1ea-45e...|1c38817f-7493-420...|2023-02-18 17:45:34|    35|[food, sports, mu...|           497|          439|           74|          315|         274|         265|           1864|2013-11-06 00:25:57|f32b9f46-8512-4d3...|\n",
      "|e5577616-a1ea-45e...|1c38817f-7493-420...|2023-02-18 17:45:34|    35|[food, sports, mu...|           497|          439|           74|          315|         274|         265|           1864|2018-12-22 08:45:59|e7470247-4ec5-457...|\n",
      "+--------------------+--------------------+-------------------+------+--------------------+--------------+-------------+-------------+-------------+------------+------------+---------------+-------------------+--------------------+\n",
      "only showing top 20 rows\n",
      "\n"
     ]
    }
   ],
   "source": [
    "interaction_fact.show()"
   ]
  },
  {
   "cell_type": "code",
   "execution_count": 20,
   "id": "9704bbfa-b2a8-4bde-b381-6f98125ede8b",
   "metadata": {},
   "outputs": [],
   "source": [
    "interaction_fact =interaction_fact.fillna({\"shares\" : 0  })"
   ]
  },
  {
   "cell_type": "code",
   "execution_count": 21,
   "id": "b3b23483-2a67-4402-9f25-a17bd53817a3",
   "metadata": {},
   "outputs": [],
   "source": [
    "interaction_fact =interaction_fact.fillna({\n",
    "    \"reaction_like\": 0,\n",
    "    \"reaction_love\": 0,\n",
    "    \"reaction_sad\": 0,\n",
    "    \"reaction_angry\": 0,\n",
    "    \"reaction_wow\": 0,\n",
    "    \"reaction_haha\": 0  })"
   ]
  },
  {
   "cell_type": "code",
   "execution_count": 22,
   "id": "7bb55048-9ada-4596-9e61-4ae2aa125382",
   "metadata": {},
   "outputs": [],
   "source": [
    "posts_dimension = posts_dimension.fillna({\"location\" : \"unknown\"})"
   ]
  },
  {
   "cell_type": "code",
   "execution_count": 23,
   "id": "602a8f37-14a4-448a-9376-88b83c504441",
   "metadata": {},
   "outputs": [],
   "source": [
    "\n",
    "\n",
    "email_validation_df = users_dimension.withColumn(\n",
    "    \"is_valid_email\",\n",
    "    when(\n",
    "        col(\"email\").rlike(r\"^[A-Za-z0-9._%+-]+@[A-Za-z0-9.-]+\\.[A-Za-z]{2,}$\"),\n",
    "        True\n",
    "    ).otherwise(False)\n",
    ")"
   ]
  },
  {
   "cell_type": "code",
   "execution_count": 24,
   "id": "6d97e455-6e83-4bee-ad95-67abeed0f4b8",
   "metadata": {},
   "outputs": [
    {
     "name": "stdout",
     "output_type": "stream",
     "text": [
      "+--------------------+-------------------+---+-------------------+--------------------+------+-----------------+--------------+\n",
      "|             user_id|           username|age|       date_created|               email|gender|             name|is_valid_email|\n",
      "+--------------------+-------------------+---+-------------------+--------------------+------+-----------------+--------------+\n",
      "|b2ddab24-f19c-458...|           edward74| 57|2010-03-22 13:20:34|stephenstimothy@e...|female|Austin Chavez Jr.|          true|\n",
      "|33d9493d-7073-494...|      aprilthompson| 66|2018-03-28 04:18:48| rmeyers@example.org|female| Donald Mcfarland|          true|\n",
      "|abd87864-b134-42a...|            kduncan| 57|2018-11-13 04:34:21|jefferybeard@exam...|  male|      Joshua Hull|          true|\n",
      "|4b30cfe3-d4af-4fc...|         courtney76| 32|2015-07-16 14:57:48|daviskrista@examp...|  male|    Joseph Santos|          true|\n",
      "|e5577616-a1ea-45e...|     richardgoodwin| 36|2023-03-25 19:40:01|ruthgonzalez@exam...|female|    Brandy Phelps|          true|\n",
      "|fce1b46d-224e-413...|        murphydavid| 49|2017-10-14 13:44:35|rhodeschristopher...|female|   Timothy Harris|          true|\n",
      "|3979d7c8-4214-466...|      careymichelle| 36|2014-05-02 21:20:49|sandra71@example.com|  male|     Aaron Martin|          true|\n",
      "|07b0f9d1-936f-421...|        jasminerich| 40|2021-10-22 19:58:09|palmercatherine@e...|  male|   Courtney Brown|          true|\n",
      "|3b089e90-b045-4b0...|             wsmith| 54|2013-03-16 18:57:15|johnsonaaron@exam...|  male|     Andrea Sharp|          true|\n",
      "|20d73ee7-3b9d-4f0...|    crawfordpatrick| 45|2010-09-12 16:56:36|  rosele@example.org|  male|    George Booker|          true|\n",
      "|24791b8f-4f83-400...|campbellchristopher| 57|2022-07-31 09:50:25|landrybrian@examp...|female|    Michael Smith|          true|\n",
      "|9f252abf-41e2-47c...|     wheelertimothy| 52|2020-11-30 09:19:57|   zking@example.org|  male|   Elizabeth Bird|          true|\n",
      "|e6f471fa-95ad-461...|        piercecasey| 23|2010-04-15 18:16:08| mmiller@example.com|  male|     Joseph Vance|          true|\n",
      "|3de00ba0-6020-45c...|        wilsontraci| 62|2013-11-09 04:04:44|atkinsbrian@examp...|  male|Timothy Frederick|          true|\n",
      "|f082ba14-2a52-4cf...|      garciadeborah| 24|2023-03-18 03:02:53|tiffanymckinney@e...|female|    Zachary Jones|          true|\n",
      "|0c92ca17-abeb-4b2...|         rosebryant| 47|2023-07-21 15:34:36|jhouston@example.com|female|  Kimberly Mendez|          true|\n",
      "|01417425-3a39-448...|      brandtcarolyn| 21|2021-11-05 20:47:42|masonjennifer@exa...|female|     Emily Wilson|          true|\n",
      "|090644b6-5529-462...|          ihamilton| 35|2015-05-28 20:25:53|william47@example...|  male|  Michele Schmitt|          true|\n",
      "|bb7a3482-7286-429...|           ymanning| 48|2013-04-14 00:34:37|  fsingh@example.org|female|  Catherine Horne|          true|\n",
      "|d4bcfef7-5179-4a0...|        darryllewis| 37|2017-11-10 10:28:55|mitchellalexandra...|female|     Keith Cortez|          true|\n",
      "+--------------------+-------------------+---+-------------------+--------------------+------+-----------------+--------------+\n",
      "only showing top 20 rows\n",
      "\n"
     ]
    }
   ],
   "source": [
    "email_validation_df.show()"
   ]
  },
  {
   "cell_type": "code",
   "execution_count": 25,
   "id": "5460c9c0-3519-48f4-b3da-66bc3dd3756d",
   "metadata": {},
   "outputs": [],
   "source": [
    "invalid_email_df = email_validation_df.filter(col(\"is_valid_email\") == False)"
   ]
  },
  {
   "cell_type": "code",
   "execution_count": 26,
   "id": "a6b35200-800d-4a27-b6a6-0b21ee6c3253",
   "metadata": {},
   "outputs": [
    {
     "name": "stdout",
     "output_type": "stream",
     "text": [
      "+-------+--------+---+------------+-----+------+----+--------------+\n",
      "|user_id|username|age|date_created|email|gender|name|is_valid_email|\n",
      "+-------+--------+---+------------+-----+------+----+--------------+\n",
      "+-------+--------+---+------------+-----+------+----+--------------+\n",
      "\n"
     ]
    }
   ],
   "source": [
    "invalid_email_df.show()"
   ]
  },
  {
   "cell_type": "markdown",
   "id": "c0ce13c9-43ae-48b8-a9f6-debe37ae9f3f",
   "metadata": {},
   "source": [
    "so there is no invalid entry in email column "
   ]
  },
  {
   "cell_type": "code",
   "execution_count": 27,
   "id": "9984103c-fdbd-44c3-8347-f21eb98c3e53",
   "metadata": {},
   "outputs": [],
   "source": [
    "\n",
    "\n",
    "users_dimension  = users_dimension.withColumn(\"user_creation_date\", to_date(col(\"date_created\"))).drop(\"date_created\")\n"
   ]
  },
  {
   "cell_type": "code",
   "execution_count": 28,
   "id": "a9fb0ee8-8eec-45bf-8176-d2199519a6c3",
   "metadata": {},
   "outputs": [],
   "source": [
    "\n",
    "posts_dimension = posts_dimension.withColumn(\"post_date\", to_date(col(\"timestamp\"))).drop(\"timestamp\" , \"comments\")\n"
   ]
  },
  {
   "cell_type": "code",
   "execution_count": 29,
   "id": "36b6507e-c4f4-42e2-a55e-d8b30759033b",
   "metadata": {},
   "outputs": [],
   "source": [
    "\n",
    "interaction_fact = interaction_fact.withColumn(\"post_date\", to_date(col(\"post_timestamp\"))).drop(\"post_timestamp\")\n"
   ]
  },
  {
   "cell_type": "code",
   "execution_count": 30,
   "id": "3c5d3105-0adb-4a1b-b8d4-c559a1b62cb7",
   "metadata": {},
   "outputs": [],
   "source": [
    "interaction_fact = interaction_fact.withColumn(\"comment_date\", to_date(col(\"comment_timestamp\"))).drop(\"comment_timestamp\")\n"
   ]
  },
  {
   "cell_type": "code",
   "execution_count": 31,
   "id": "4fe85eac-e6f8-484a-bc6f-1624e6791240",
   "metadata": {},
   "outputs": [
    {
     "name": "stdout",
     "output_type": "stream",
     "text": [
      "+--------------------+--------------------+------+--------------------+--------------+-------------+-------------+-------------+------------+------------+---------------+--------------------+----------+------------+\n",
      "|             user_id|             post_id|shares|                tags|reaction_angry|reaction_haha|reaction_like|reaction_love|reaction_sad|reaction_wow|total_reactions|     comment_user_id| post_date|comment_date|\n",
      "+--------------------+--------------------+------+--------------------+--------------+-------------+-------------+-------------+------------+------------+---------------+--------------------+----------+------------+\n",
      "|4b30cfe3-d4af-4fc...|e47dcbb7-ddf9-48c...|     2|               [art]|             0|            0|            0|            0|           0|           0|              0|d36126d3-cdaa-41a...|2022-10-08|  2014-02-10|\n",
      "|4b30cfe3-d4af-4fc...|e47dcbb7-ddf9-48c...|     2|               [art]|             0|            0|            0|            0|           0|           0|              0|34b6b3f1-02d6-417...|2022-10-08|  2019-11-17|\n",
      "|4b30cfe3-d4af-4fc...|e47dcbb7-ddf9-48c...|     2|               [art]|             0|            0|            0|            0|           0|           0|              0|2cee5448-9069-49f...|2022-10-08|  2021-01-12|\n",
      "|4b30cfe3-d4af-4fc...|e47dcbb7-ddf9-48c...|     2|               [art]|             0|            0|            0|            0|           0|           0|              0|8a222916-ddb3-4c1...|2022-10-08|  2022-12-05|\n",
      "|4b30cfe3-d4af-4fc...|6cb5bc0e-7548-44e...|    94|[tech, fashion, s...|             0|            0|            0|          270|           0|         100|            370|83f1199f-bd9f-4a6...|2020-05-04|  2014-04-01|\n",
      "|4b30cfe3-d4af-4fc...|6cb5bc0e-7548-44e...|    94|[tech, fashion, s...|             0|            0|            0|          270|           0|         100|            370|20d4d6cd-baba-417...|2020-05-04|  2013-03-27|\n",
      "|4b30cfe3-d4af-4fc...|6cb5bc0e-7548-44e...|    94|[tech, fashion, s...|             0|            0|            0|          270|           0|         100|            370|7d5adfb0-f724-476...|2020-05-04|  2023-06-10|\n",
      "|4b30cfe3-d4af-4fc...|6cb5bc0e-7548-44e...|    94|[tech, fashion, s...|             0|            0|            0|          270|           0|         100|            370|4fe13c30-1b2c-4e2...|2020-05-04|  2023-06-25|\n",
      "|4b30cfe3-d4af-4fc...|4362b53c-03a6-496...|    47|                  []|             0|            0|            0|            0|           0|           0|              0|5d1ec4c5-9ae3-468...|2018-01-17|  2012-01-20|\n",
      "|4b30cfe3-d4af-4fc...|6ad79fe5-b4ad-4cf...|    20| [art, tech, sports]|             0|            0|            0|            0|           0|           0|              0|7658e6ab-45df-496...|2023-02-08|  2016-02-05|\n",
      "|4b30cfe3-d4af-4fc...|6ad79fe5-b4ad-4cf...|    20| [art, tech, sports]|             0|            0|            0|            0|           0|           0|              0|3a1c7930-d553-4f6...|2023-02-08|  2019-02-03|\n",
      "|4b30cfe3-d4af-4fc...|62507fb3-17bc-480...|     0|              [food]|             0|            0|            0|          283|          80|           0|            363|dad999e5-31cf-4ae...|2021-03-16|  2016-07-24|\n",
      "|4b30cfe3-d4af-4fc...|62507fb3-17bc-480...|     0|              [food]|             0|            0|            0|          283|          80|           0|            363|3fef7983-f69d-4fe...|2021-03-16|  2011-05-11|\n",
      "|4b30cfe3-d4af-4fc...|62507fb3-17bc-480...|     0|              [food]|             0|            0|            0|          283|          80|           0|            363|8e200bbb-d1f9-4e6...|2021-03-16|  2024-04-02|\n",
      "|4b30cfe3-d4af-4fc...|f6ee982f-b47d-4f1...|     0|                  []|             0|            0|            0|            0|           0|           0|              0|97a387a1-7b43-4d0...|2011-01-05|  2013-12-14|\n",
      "|4b30cfe3-d4af-4fc...|f6ee982f-b47d-4f1...|     0|                  []|             0|            0|            0|            0|           0|           0|              0|adcbd5f4-8eb3-413...|2011-01-05|  2018-02-28|\n",
      "|4b30cfe3-d4af-4fc...|f6ee982f-b47d-4f1...|     0|                  []|             0|            0|            0|            0|           0|           0|              0|0cb37416-ad18-4a2...|2011-01-05|  2016-04-10|\n",
      "|e5577616-a1ea-45e...|1c38817f-7493-420...|    35|[food, sports, mu...|           497|          439|           74|          315|         274|         265|           1864|a1d1f4cf-c328-432...|2023-02-18|  2012-11-28|\n",
      "|e5577616-a1ea-45e...|1c38817f-7493-420...|    35|[food, sports, mu...|           497|          439|           74|          315|         274|         265|           1864|f32b9f46-8512-4d3...|2023-02-18|  2013-11-06|\n",
      "|e5577616-a1ea-45e...|1c38817f-7493-420...|    35|[food, sports, mu...|           497|          439|           74|          315|         274|         265|           1864|e7470247-4ec5-457...|2023-02-18|  2018-12-22|\n",
      "+--------------------+--------------------+------+--------------------+--------------+-------------+-------------+-------------+------------+------------+---------------+--------------------+----------+------------+\n",
      "only showing top 20 rows\n",
      "\n"
     ]
    }
   ],
   "source": [
    "interaction_fact.show()"
   ]
  },
  {
   "cell_type": "code",
   "execution_count": 32,
   "id": "44cc37d8-f12a-4f83-95c8-a26b52339198",
   "metadata": {},
   "outputs": [
    {
     "name": "stdout",
     "output_type": "stream",
     "text": [
      "+--------------------+--------------------+--------------------+--------+------+--------------------+--------------+-------------+-------------+-------------+------------+------------+---------------+----------+\n",
      "|             user_id|             post_id|           post_text|location|shares|                tags|reaction_angry|reaction_haha|reaction_like|reaction_love|reaction_sad|reaction_wow|total_reactions| post_date|\n",
      "+--------------------+--------------------+--------------------+--------+------+--------------------+--------------+-------------+-------------+-------------+------------+------------+---------------+----------+\n",
      "|4b30cfe3-d4af-4fc...|e47dcbb7-ddf9-48c...|Church claim bloo...| unknown|     2|               [art]|          NULL|         NULL|         NULL|         NULL|        NULL|        NULL|              0|2022-10-08|\n",
      "|4b30cfe3-d4af-4fc...|6cb5bc0e-7548-44e...|Behind practice l...|  Sydney|    94|[tech, fashion, s...|          NULL|         NULL|         NULL|          270|        NULL|         100|            370|2020-05-04|\n",
      "|4b30cfe3-d4af-4fc...|4362b53c-03a6-496...|Watch hospital mi...|   Tokyo|    47|                  []|          NULL|         NULL|         NULL|         NULL|        NULL|        NULL|              0|2018-01-17|\n",
      "|4b30cfe3-d4af-4fc...|6ad79fe5-b4ad-4cf...|Daughter bring st...|   Tokyo|    20| [art, tech, sports]|          NULL|         NULL|         NULL|         NULL|        NULL|        NULL|              0|2023-02-08|\n",
      "|4b30cfe3-d4af-4fc...|62507fb3-17bc-480...|Woman get informa...| unknown|  NULL|              [food]|          NULL|         NULL|         NULL|          283|          80|        NULL|            363|2021-03-16|\n",
      "|4b30cfe3-d4af-4fc...|c07b8d05-6042-43e...|Question seat onl...| unknown|  NULL|[music, fashion, ...|          NULL|         NULL|           14|         NULL|        NULL|        NULL|             14|2015-01-29|\n",
      "|4b30cfe3-d4af-4fc...|f6ee982f-b47d-4f1...|You audience type...|New York|  NULL|                  []|          NULL|         NULL|         NULL|         NULL|        NULL|        NULL|              0|2011-01-05|\n",
      "|4b30cfe3-d4af-4fc...|20aca0dd-16d1-4e1...|Shoulder although...| unknown|  NULL|           [science]|          NULL|         NULL|         NULL|         NULL|        NULL|        NULL|              0|2020-01-14|\n",
      "|e5577616-a1ea-45e...|1c38817f-7493-420...|Drop treat provid...|   Paris|    35|[food, sports, mu...|           497|          439|           74|          315|         274|         265|           1864|2023-02-18|\n",
      "|fce1b46d-224e-413...|5346bb1b-4604-4ba...|Information popul...|  Sydney|    82|                  []|          NULL|           36|         NULL|           75|        NULL|         306|            417|2011-12-10|\n",
      "|fce1b46d-224e-413...|b4423da1-166c-47d...|That sit together...| unknown|  NULL|[travel, music, s...|           107|         NULL|          467|         NULL|        NULL|        NULL|            574|2013-01-06|\n",
      "|fce1b46d-224e-413...|fdde16c0-37ba-425...|Red family fine s...| unknown|  NULL|    [science, music]|           464|         NULL|         NULL|         NULL|          47|        NULL|            511|2014-06-24|\n",
      "|fce1b46d-224e-413...|e68106e5-ef69-4ad...|Know indeed anoth...|   Paris|  NULL|              [tech]|          NULL|         NULL|         NULL|          201|        NULL|        NULL|            201|2020-06-05|\n",
      "|fce1b46d-224e-413...|98c855ae-e324-4ed...|Church five quite...|  Sydney|  NULL|     [food, science]|           217|            6|         NULL|         NULL|          12|         253|            488|2022-11-11|\n",
      "|fce1b46d-224e-413...|060e7641-469a-447...|Compare represent...|New York|  NULL|     [tech, fashion]|           495|         NULL|         NULL|         NULL|        NULL|         260|            755|2024-03-10|\n",
      "|fce1b46d-224e-413...|9468ad34-4857-4c8...|Town loss true pr...| unknown|    18|                  []|           360|          312|            4|          224|        NULL|        NULL|            900|2014-12-27|\n",
      "|fce1b46d-224e-413...|fe4f59b9-f937-432...|Party trip be bor...| unknown|  NULL|                  []|          NULL|         NULL|         NULL|         NULL|        NULL|        NULL|              0|2012-01-23|\n",
      "|3979d7c8-4214-466...|c868f896-3685-46f...|Economy fast resu...| unknown|    92|                  []|          NULL|         NULL|         NULL|         NULL|        NULL|        NULL|              0|2010-06-25|\n",
      "|3979d7c8-4214-466...|7f93bbe6-9c03-421...|Pressure sea cell...|New York|  NULL|               [art]|          NULL|         NULL|          275|         NULL|        NULL|        NULL|            275|2017-07-14|\n",
      "|3979d7c8-4214-466...|0931632b-b93f-428...|   Tv guess student.|  Berlin|  NULL|             [music]|           476|          478|         NULL|         NULL|          90|        NULL|           1044|2018-02-15|\n",
      "+--------------------+--------------------+--------------------+--------+------+--------------------+--------------+-------------+-------------+-------------+------------+------------+---------------+----------+\n",
      "only showing top 20 rows\n",
      "\n"
     ]
    }
   ],
   "source": [
    "posts_dimension.show()"
   ]
  },
  {
   "cell_type": "code",
   "execution_count": 33,
   "id": "540c931a-f5a5-4029-9a5d-97f73ce16e2a",
   "metadata": {},
   "outputs": [],
   "source": [
    "users_dimension.write \\\n",
    "  .format(\"jdbc\") \\\n",
    "  .option(\"url\", \"jdbc:postgresql://postgres_warehouse:5432/warehouse\") \\\n",
    "  .option(\"dbtable\", \"users_dimension\") \\\n",
    "  .option(\"user\", \"warehouse\") \\\n",
    "  .option(\"password\", \"warehouse\") \\\n",
    "  .option(\"driver\", \"org.postgresql.Driver\") \\\n",
    "  .mode(\"overwrite\") \\\n",
    "  .save()"
   ]
  },
  {
   "cell_type": "code",
   "execution_count": 34,
   "id": "fe191520-d35f-4a69-a6f7-69c31d9d2732",
   "metadata": {},
   "outputs": [],
   "source": [
    "posts_dimension.write \\\n",
    "  .format(\"jdbc\") \\\n",
    "  .option(\"url\", \"jdbc:postgresql://postgres_warehouse:5432/warehouse\") \\\n",
    "  .option(\"dbtable\", \"posts_dimension\") \\\n",
    "  .option(\"user\", \"warehouse\") \\\n",
    "  .option(\"password\", \"warehouse\") \\\n",
    "  .option(\"driver\", \"org.postgresql.Driver\") \\\n",
    "  .mode(\"overwrite\") \\\n",
    "  .save()"
   ]
  },
  {
   "cell_type": "code",
   "execution_count": 35,
   "id": "9181f575-5454-4119-9edf-ccc4d4a88974",
   "metadata": {},
   "outputs": [],
   "source": [
    "comments_dimension.write \\\n",
    "  .format(\"jdbc\") \\\n",
    "  .option(\"url\", \"jdbc:postgresql://postgres_warehouse:5432/warehouse\") \\\n",
    "  .option(\"dbtable\", \"comments_dimension\") \\\n",
    "  .option(\"user\", \"warehouse\") \\\n",
    "  .option(\"password\", \"warehouse\") \\\n",
    "  .option(\"driver\", \"org.postgresql.Driver\") \\\n",
    "  .mode(\"overwrite\") \\\n",
    "  .save()"
   ]
  },
  {
   "cell_type": "code",
   "execution_count": 36,
   "id": "fcaeaf5a-2928-445f-b811-a14175558820",
   "metadata": {},
   "outputs": [],
   "source": [
    "interaction_fact.write \\\n",
    "  .format(\"jdbc\") \\\n",
    "  .option(\"url\", \"jdbc:postgresql://postgres_warehouse:5432/warehouse\") \\\n",
    "  .option(\"dbtable\", \"interaction_fact\") \\\n",
    "  .option(\"user\", \"warehouse\") \\\n",
    "  .option(\"password\", \"warehouse\") \\\n",
    "  .option(\"driver\", \"org.postgresql.Driver\") \\\n",
    "  .mode(\"overwrite\") \\\n",
    "  .save()"
   ]
  },
  {
   "cell_type": "code",
   "execution_count": null,
   "id": "f322c810-d588-44e5-8bd0-f1b84eb23b2a",
   "metadata": {},
   "outputs": [],
   "source": []
  },
  {
   "cell_type": "code",
   "execution_count": null,
   "id": "f025f12b-b869-4714-8efa-867512abed81",
   "metadata": {},
   "outputs": [],
   "source": []
  },
  {
   "cell_type": "code",
   "execution_count": null,
   "id": "97d8108e-8756-4fae-82bc-79e660b25fb0",
   "metadata": {},
   "outputs": [],
   "source": []
  },
  {
   "cell_type": "code",
   "execution_count": null,
   "id": "82b263a8-c63a-4e74-b10b-d20decf5ef6c",
   "metadata": {},
   "outputs": [],
   "source": []
  }
 ],
 "metadata": {
  "kernelspec": {
   "display_name": "Python 3 (ipykernel)",
   "language": "python",
   "name": "python3"
  },
  "language_info": {
   "codemirror_mode": {
    "name": "ipython",
    "version": 3
   },
   "file_extension": ".py",
   "mimetype": "text/x-python",
   "name": "python",
   "nbconvert_exporter": "python",
   "pygments_lexer": "ipython3",
   "version": "3.11.6"
  }
 },
 "nbformat": 4,
 "nbformat_minor": 5
}
